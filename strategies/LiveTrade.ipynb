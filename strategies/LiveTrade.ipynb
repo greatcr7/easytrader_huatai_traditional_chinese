{
 "cells": [
  {
   "cell_type": "code",
   "execution_count": 1,
   "id": "ad391cc3-35b3-4a99-b3d0-64227fcb28ca",
   "metadata": {},
   "outputs": [
    {
     "name": "stderr",
     "output_type": "stream",
     "text": [
      "D:\\anaconda3\\envs\\easytrader\\lib\\site-packages\\pywinauto\\application.py:1062: UserWarning: 32-bit application should be automated using 32-bit Python (you use 64-bit Python)\n",
      "  warnings.warn(\n",
      "D:\\anaconda3\\envs\\easytrader\\lib\\site-packages\\pywinauto\\application.py:1062: UserWarning: 32-bit application should be automated using 32-bit Python (you use 64-bit Python)\n",
      "  warnings.warn(\n",
      "2022-11-09 14:57:11,693 [INFO] follower.py 58: 登录成功\n"
     ]
    }
   ],
   "source": [
    "import easytrader\n",
    "\n",
    "user = easytrader.use('ht_client')\n",
    "\n",
    "user.prepare(user='666639271031', password='970411', exe_path='D:\\\\htzqftb\\\\xiadan.exe', comm_password='183010')\n",
    "\n",
    "jq_username = '13601787682'\n",
    "jq_password = 'Jeich970815'\n",
    "jq_url = 'https://www.joinquant.com/algorithm/live/index?backtestId=f82682d71e9fa7ebae1c748f49a945a5'\n",
    "target = 'jq'  # joinquant\n",
    "follower = easytrader.follower(target)\n",
    "follower.login(user=jq_username, password=jq_password)\n",
    "\n",
    "follower.follow(user, jq_url, send_interval=5, buy_multiplier=1, sell_multiplier=10)\n"
   ]
  },
  {
   "cell_type": "code",
   "execution_count": 7,
   "id": "5ab870cf-94ef-41f0-8180-877ef31fc58f",
   "metadata": {},
   "outputs": [
    {
     "name": "stdout",
     "output_type": "stream",
     "text": [
      "100\n"
     ]
    }
   ],
   "source": [
    "positions = user.position\n",
    "for position in positions:\n",
    "    if position['证券代码'] == '600877':\n",
    "        print(position['可用余额'])"
   ]
  },
  {
   "cell_type": "code",
   "execution_count": 3,
   "id": "873ebfdd-5f0e-4d70-8352-eaac73c17632",
   "metadata": {},
   "outputs": [],
   "source": [
    "import schedule\n",
    "\n",
    "def job():\n",
    "    print(\"I'm working...\")\n",
    "\n",
    "schedule.every(2).minutes.do(job)\n",
    "schedule.every().monday.do(job)\n",
    "schedule.every().wednesday.at(\"13:15\").do(job)\n",
    "\n",
    "counter = 0\n",
    "while counter < 2:\n",
    "    schedule.run_pending()\n",
    "    counter += 1\n",
    "    time.sleep(1)\n"
   ]
  },
  {
   "cell_type": "code",
   "execution_count": 5,
   "id": "87bf08b3-ed69-4ae7-b4b9-a147fdde1801",
   "metadata": {},
   "outputs": [
    {
     "name": "stdout",
     "output_type": "stream",
     "text": [
      "Foo\n",
      "Bar\n",
      "Bar\n",
      "Bar\n",
      "Bar\n",
      "Bar\n"
     ]
    },
    {
     "ename": "KeyboardInterrupt",
     "evalue": "",
     "output_type": "error",
     "traceback": [
      "\u001b[1;31m---------------------------------------------------------------------------\u001b[0m",
      "\u001b[1;31mKeyboardInterrupt\u001b[0m                         Traceback (most recent call last)",
      "Input \u001b[1;32mIn [5]\u001b[0m, in \u001b[0;36m<cell line: 13>\u001b[1;34m()\u001b[0m\n\u001b[0;32m     12\u001b[0m \u001b[38;5;28;01mwhile\u001b[39;00m \u001b[38;5;28;01mTrue\u001b[39;00m:\n\u001b[0;32m     13\u001b[0m     schedule\u001b[38;5;241m.\u001b[39mrun_pending()\n\u001b[1;32m---> 14\u001b[0m     \u001b[43mtime\u001b[49m\u001b[38;5;241;43m.\u001b[39;49m\u001b[43msleep\u001b[49m\u001b[43m(\u001b[49m\u001b[38;5;241;43m1\u001b[39;49m\u001b[43m)\u001b[49m\n",
      "\u001b[1;31mKeyboardInterrupt\u001b[0m: "
     ]
    }
   ],
   "source": [
    "import schedule\n",
    "import time\n",
    "\n",
    "def job_1():\n",
    "    print('Foo')\n",
    "\n",
    "def job_2():\n",
    "    print('Bar')\n",
    "\n",
    "schedule.every().tuesday.at(\"10:24\").do(job_1)\n",
    "schedule.every().tuesday.at(\"10:25\").do(job_2)\n",
    "while True:\n",
    "    schedule.run_pending()\n",
    "    time.sleep(1)\n",
    "\n"
   ]
  },
  {
   "cell_type": "code",
   "execution_count": null,
   "id": "97260838-d95d-4aa5-a2dc-3d53e5cc0946",
   "metadata": {},
   "outputs": [],
   "source": []
  },
  {
   "cell_type": "code",
   "execution_count": null,
   "id": "1b03ed7c-e74e-4527-9f27-63e473c4c726",
   "metadata": {},
   "outputs": [],
   "source": []
  },
  {
   "cell_type": "code",
   "execution_count": null,
   "id": "e5a4ff9f-d26a-4282-a718-d7eeb81ad35e",
   "metadata": {},
   "outputs": [],
   "source": [
    "'''\n",
    "from pywinauto.application import Application\n",
    "import pywinauto\n",
    "\n",
    "exe_path='D:\\\\htzqftb\\\\xiadan.exe'\n",
    "username = '666639271031'\n",
    "password = '970411'\n",
    "comm_password='183010'\n",
    "\n",
    "_app = Application().start(exe_path)\n",
    "while True:\n",
    "    try:\n",
    "        _app.top_window().Edit1.wait(\"ready\")\n",
    "        print('Sign in window popped!')\n",
    "        break\n",
    "    except RuntimeError:\n",
    "        pass\n",
    "\n",
    "_app.top_window().Edit1.set_focus()\n",
    "_app.top_window().Edit1.type_keys(username)\n",
    "_app.top_window().Edit2.type_keys(password)\n",
    "_app.top_window().Edit3.type_keys(comm_password)\n",
    "\n",
    "_app.top_window().button0.click()\n",
    "\n",
    "# detect login is success or not\n",
    "_app.top_window().wait_not(\"exists\", 100)\n",
    "\n",
    "_app = Application().connect(\n",
    "    path=exe_path, timeout=10\n",
    ")\n",
    "\n",
    "print('Signed in successfully!')\n",
    "'''"
   ]
  }
 ],
 "metadata": {
  "kernelspec": {
   "display_name": "Python 3 (ipykernel)",
   "language": "python",
   "name": "python3"
  },
  "language_info": {
   "codemirror_mode": {
    "name": "ipython",
    "version": 3
   },
   "file_extension": ".py",
   "mimetype": "text/x-python",
   "name": "python",
   "nbconvert_exporter": "python",
   "pygments_lexer": "ipython3",
   "version": "3.9.13"
  }
 },
 "nbformat": 4,
 "nbformat_minor": 5
}
